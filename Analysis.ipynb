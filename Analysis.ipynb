{
 "cells": [
  {
   "cell_type": "markdown",
   "id": "459f60d5",
   "metadata": {},
   "source": [
    "# Analysis code for the paper \"B1+ shimming in the cervical spinal cord at 7T\"\n",
    "\n",
    "## Data\n",
    "\n",
    "The data can be download at: XXX (TODO: upload on openneuro)\n",
    "\n",
    "The structure of the input dataset is as follows:\n",
    "~~~\n",
    "RF_shimming_project_cleanupload/\n",
    "├── SubA\n",
    "│   ├── GRE_B1\n",
    "│   │   ├── CVred\n",
    "│   │   ├── Noshim\n",
    "│   │   ├── PatSpec\n",
    "│   │   ├── PhaseOnly\n",
    "│   │   ├── SAReff\n",
    "│   │   ├── Target\n",
    "│   │   └── VolSpec\n",
    "│   └── MPRAGE\n",
    "├── SubB\n",
    "├── SubC\n",
    "├── SubD\n",
    "└── SubE\n",
    "~~~\n",
    "\n",
    "\n",
    "## Overview of processing pipeline\n",
    "\n",
    "For each subject:\n",
    "\n",
    "- Segment the SC from the GRE scan\n",
    "- Extract the signal intensity within this mask from the GRE scans\n",
    "- Coregister the TFL_B1map to the corresponding GRE scan from each subfolder (CVred, Noshim, etc.)\n",
    "- Apply the computed warping field to bring the SC segmentation to the TFL_B1map\n",
    "- Convert the B1+ maps to nT/V units\n",
    "- Extract the B1+ value within the registered mask"
   ]
  },
  {
   "cell_type": "code",
   "execution_count": null,
   "id": "4f78c5ea",
   "metadata": {},
   "outputs": [],
   "source": [
    "# Necessary imports\n",
    "\n",
    "import os\n",
    "import re\n",
    "import json\n",
    "import subprocess\n",
    "import glob\n",
    "import numpy as np\n",
    "# import matplotlib.pyplot as plt\n",
    "# from PIL import Image\n",
    "# from IPython.display import display\n",
    "# from tabulate import tabulate\n",
    "import nibabel as nib\n",
    "# import pandas as pd"
   ]
  },
  {
   "cell_type": "code",
   "execution_count": null,
   "id": "3393a694",
   "metadata": {},
   "outputs": [],
   "source": [
    "# Download data\n",
    "\n",
    "!datalad install https://github.com/OpenNeuroDatasets/ds004906.git\n",
    "os.chdir(\"ds004906\")\n",
    "# !datalad get . # uncomment for production\n",
    "!datalad get sub-01/  # comment for debugging\n",
    "path_data = os.getcwd()"
   ]
  },
  {
   "cell_type": "code",
   "execution_count": null,
   "id": "e95d87a4-3194-4369-b6cb-933ad1d5cfa3",
   "metadata": {},
   "outputs": [],
   "source": [
    "# Run segmentation on GRE scan\n",
    "\n",
    "subjects = glob.glob(\"sub-*\")\n",
    "for subject in subjects:\n",
    "    os.chdir(os.path.join(path_data, subject, \"anat\"))\n",
    "    !sct_deepseg_sc -i {subject}_acq-CoV_T2starw.nii.gz -c t2 -qc {os.path.join(path_data, \"qc\")}"
   ]
  },
  {
   "cell_type": "code",
   "execution_count": null,
   "id": "028b3383",
   "metadata": {},
   "outputs": [],
   "source": [
    "# Register TFL B1maps to the GRE scan\n",
    "\n",
    "for subject in subjects:\n",
    "    os.chdir(os.path.join(path_data, subject, \"fmap\"))\n",
    "    !sct_register_multimodal -i {subject}_acq-anatCoV_TB1TFL.nii.gz -d ../anat/{subject}_acq-CoV_T2starw.nii.gz -param step=1,type=im,algo=slicereg,metric=CC -qc {os.path.join(path_data, \"qc\")}"
   ]
  }
 ],
 "metadata": {
  "kernelspec": {
   "display_name": "Python 3 (ipykernel)",
   "language": "python",
   "name": "python3"
  },
  "language_info": {
   "codemirror_mode": {
    "name": "ipython",
    "version": 3
   },
   "file_extension": ".py",
   "mimetype": "text/x-python",
   "name": "python",
   "nbconvert_exporter": "python",
   "pygments_lexer": "ipython3",
   "version": "3.10.8"
  }
 },
 "nbformat": 4,
 "nbformat_minor": 5
}
