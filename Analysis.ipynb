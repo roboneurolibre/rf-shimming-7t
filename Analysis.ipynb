{
 "cells": [
  {
   "cell_type": "markdown",
   "id": "459f60d5",
   "metadata": {},
   "source": [
    "# Analysis code for the paper \"B1+ shimming in the cervical spinal cord at 7T\"\n",
    "\n",
    "## Data\n",
    "\n",
    "The data can be download at: XXX (TODO: upload on openneuro)\n",
    "\n",
    "The structure of the input dataset is as follows (JSON sidecars are not listed for clarity):\n",
    "~~~\n",
    "├── CHANGES\n",
    "├── README\n",
    "├── dataset_description.json\n",
    "├── participants.json\n",
    "├── participants.tsv\n",
    "├── sub-01\n",
    "│   ├── anat\n",
    "│   │   ├── sub-01_acq-CP_T1w.nii.gz\n",
    "│   │   ├── sub-01_acq-CP_T2starw.nii.gz\n",
    "│   │   ├── sub-01_acq-CoV_T1w.nii.gz\n",
    "│   │   ├── sub-01_acq-CoV_T2starw.nii.gz\n",
    "│   │   ├── sub-01_acq-SAReff_T2starw.nii.gz\n",
    "│   │   ├── sub-01_acq-patient_T2starw.nii.gz\n",
    "│   │   ├── sub-01_acq-phase_T2starw.nii.gz\n",
    "│   │   ├── sub-01_acq-target_T2starw.nii.gz\n",
    "│   │   ├── sub-01_acq-volume_T2starw.nii.gz\n",
    "│   └── fmap\n",
    "│       ├── sub-01_acq-anatCP_TB1TFL.nii.gz\n",
    "│       ├── sub-01_acq-anatCoV_TB1TFL.nii.gz\n",
    "│       ├── sub-01_acq-anatSAReff_TB1TFL.nii.gz\n",
    "│       ├── sub-01_acq-anatpatient_TB1TFL.nii.gz\n",
    "│       ├── sub-01_acq-anatphase_TB1TFL.nii.gz\n",
    "│       ├── sub-01_acq-anattarget_TB1TFL.nii.gz\n",
    "│       ├── sub-01_acq-anatvolume_TB1TFL.nii.gz\n",
    "│       ├── sub-01_acq-fampCP_TB1TFL.nii.gz\n",
    "│       ├── sub-01_acq-fampCoV_TB1TFL.nii.gz\n",
    "│       ├── sub-01_acq-fampSAReff_TB1TFL.nii.gz\n",
    "│       ├── sub-01_acq-famppatient_TB1TFL.nii.gz\n",
    "│       ├── sub-01_acq-fampphase_TB1TFL.nii.gz\n",
    "│       ├── sub-01_acq-famptarget_TB1TFL.nii.gz\n",
    "│       └── sub-01_acq-fampvolume_TB1TFL.nii.gz\n",
    "├── sub-02\n",
    "├── sub-03\n",
    "├── sub-04\n",
    "└── sub-05\n",
    "~~~\n",
    "\n",
    "\n",
    "## Overview of processing pipeline\n",
    "\n",
    "For each subject:\n",
    "\n",
    "- Segment the SC from the GRE scan\n",
    "- Extract the signal intensity within this mask from the GRE scans\n",
    "- Coregister the TFL_B1map to the corresponding GRE scan from each subfolder (CVred, Noshim, etc.)\n",
    "- Apply the computed warping field to bring the SC segmentation to the TFL_B1map\n",
    "- Convert the B1+ maps to nT/V units\n",
    "- Extract the B1+ value within the registered mask"
   ]
  },
  {
   "cell_type": "code",
   "execution_count": null,
   "id": "4f78c5ea",
   "metadata": {},
   "outputs": [],
   "source": [
    "# Necessary imports\n",
    "\n",
    "import os\n",
    "import re\n",
    "import json\n",
    "import subprocess\n",
    "import glob\n",
    "import numpy as np\n",
    "# import matplotlib.pyplot as plt\n",
    "# from PIL import Image\n",
    "# from IPython.display import display\n",
    "# from tabulate import tabulate\n",
    "import nibabel as nib\n",
    "# import pandas as pd"
   ]
  },
  {
   "cell_type": "code",
   "execution_count": null,
   "id": "3393a694",
   "metadata": {},
   "outputs": [],
   "source": [
    "# Download data and define path variables\n",
    "\n",
    "!datalad install https://github.com/OpenNeuroDatasets/ds004906.git\n",
    "os.chdir(\"ds004906\")\n",
    "# !datalad get . # uncomment for production\n",
    "!datalad get sub-01/  # comment for debugging"
   ]
  },
  {
   "cell_type": "code",
   "execution_count": null,
   "id": "6fe120e8",
   "metadata": {},
   "outputs": [],
   "source": [
    "# Define useful variables\n",
    "\n",
    "path_data = os.getcwd()\n",
    "path_qc = os.path.join(path_data, \"qc\")\n",
    "shim_modes = [\"CP\", \"CoV\", \"patient\", \"phase\", \"SAReff\", \"target\", \"volume\"]\n",
    "subjects = glob.glob(\"sub-*\")"
   ]
  },
  {
   "cell_type": "code",
   "execution_count": null,
   "id": "e95d87a4-3194-4369-b6cb-933ad1d5cfa3",
   "metadata": {},
   "outputs": [],
   "source": [
    "# Run segmentation on GRE scan\n",
    "\n",
    "for subject in subjects:\n",
    "    os.chdir(os.path.join(path_data, subject, \"anat\"))\n",
    "    !sct_deepseg_sc -i {subject}_acq-CoV_T2starw.nii.gz -c t2 -qc {path_qc}"
   ]
  },
  {
   "cell_type": "markdown",
   "id": "aac9d889",
   "metadata": {},
   "source": [
    "## Verify quality control (QC) report\n",
    "\n",
    "Open the QC report located under `ds004906/qc/index.html`. Make sure the segmentations and registrations are correct before resuming the analysis."
   ]
  },
  {
   "cell_type": "code",
   "execution_count": null,
   "id": "90deb5e5",
   "metadata": {},
   "outputs": [],
   "source": [
    "# Crop GRE scan for faster processing and better registration results\n",
    "\n",
    "for subject in subjects:\n",
    "    os.chdir(os.path.join(path_data, subject, \"anat\"))\n",
    "    !sct_crop_image -i {subject}_acq-CoV_T2starw.nii.gz -m {subject}_acq-CoV_T2starw_seg.nii.gz -dilate 20x20x0 -o {subject}_acq-CoV_T2starw_crop.nii.gz\n",
    "    !sct_crop_image -i {subject}_acq-CoV_T2starw_seg.nii.gz -m {subject}_acq-CoV_T2starw_seg.nii.gz -dilate 20x20x0 -o {subject}_acq-CoV_T2starw_crop_seg.nii.gz"
   ]
  },
  {
   "cell_type": "code",
   "execution_count": null,
   "id": "e0cde907",
   "metadata": {},
   "outputs": [],
   "source": [
    "# Register TFL B1maps to the GRE scan\n",
    "\n",
    "for subject in subjects:\n",
    "    os.chdir(os.path.join(path_data, subject, \"fmap\"))\n",
    "    for shim_mode in shim_modes:\n",
    "        !sct_register_multimodal -i {subject}_acq-anat{shim_mode}_TB1TFL.nii.gz -d ../anat/{subject}_acq-CoV_T2starw_crop.nii.gz -dseg ../anat/{subject}_acq-CoV_T2starw_crop_seg.nii.gz -param step=1,type=im,algo=slicereg,metric=CC -qc {path_qc}"
   ]
  }
 ],
 "metadata": {
  "kernelspec": {
   "display_name": "Python 3 (ipykernel)",
   "language": "python",
   "name": "python3"
  },
  "language_info": {
   "codemirror_mode": {
    "name": "ipython",
    "version": 3
   },
   "file_extension": ".py",
   "mimetype": "text/x-python",
   "name": "python",
   "nbconvert_exporter": "python",
   "pygments_lexer": "ipython3",
   "version": "3.10.8"
  }
 },
 "nbformat": 4,
 "nbformat_minor": 5
}
