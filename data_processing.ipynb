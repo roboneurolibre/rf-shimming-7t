{
 "cells": [
  {
   "cell_type": "markdown",
   "id": "459f60d5",
   "metadata": {},
   "source": [
    "# Analysis code for the paper \"B1+ shimming in the cervical spinal cord at 7T\"\n",
    "\n",
    "## Data\n",
    "\n",
    "The data can be download at https://openneuro.org/datasets/ds004906\n",
    "\n",
    "The structure of the input dataset is as follows (JSON sidecars are not listed for clarity):\n",
    "~~~\n",
    "ds004906\n",
    "├── CHANGES\n",
    "├── README\n",
    "├── dataset_description.json\n",
    "├── participants.json\n",
    "├── participants.tsv\n",
    "├── sub-01\n",
    "│   ├── anat\n",
    "│   │   ├── sub-01_acq-CP_T1w.nii.gz\n",
    "│   │   ├── sub-01_acq-CP_T2starw.nii.gz\n",
    "│   │   ├── sub-01_acq-CoV_T1w.nii.gz\n",
    "│   │   ├── sub-01_acq-CoV_T2starw.nii.gz\n",
    "│   │   ├── sub-01_acq-SAReff_T2starw.nii.gz\n",
    "│   │   ├── sub-01_acq-patient_T2starw.nii.gz\n",
    "│   │   ├── sub-01_acq-phase_T2starw.nii.gz\n",
    "│   │   ├── sub-01_acq-target_T2starw.nii.gz\n",
    "│   │   ├── sub-01_acq-volume_T2starw.nii.gz\n",
    "│   └── fmap\n",
    "│       ├── sub-01_acq-anatCP_TB1TFL.nii.gz\n",
    "│       ├── sub-01_acq-anatCoV_TB1TFL.nii.gz\n",
    "│       ├── sub-01_acq-anatSAReff_TB1TFL.nii.gz\n",
    "│       ├── sub-01_acq-anatpatient_TB1TFL.nii.gz\n",
    "│       ├── sub-01_acq-anatphase_TB1TFL.nii.gz\n",
    "│       ├── sub-01_acq-anattarget_TB1TFL.nii.gz\n",
    "│       ├── sub-01_acq-anatvolume_TB1TFL.nii.gz\n",
    "│       ├── sub-01_acq-fampCP_TB1TFL.nii.gz\n",
    "│       ├── sub-01_acq-fampCoV_TB1TFL.nii.gz\n",
    "│       ├── sub-01_acq-fampSAReff_TB1TFL.nii.gz\n",
    "│       ├── sub-01_acq-famppatient_TB1TFL.nii.gz\n",
    "│       ├── sub-01_acq-fampphase_TB1TFL.nii.gz\n",
    "│       ├── sub-01_acq-famptarget_TB1TFL.nii.gz\n",
    "│       └── sub-01_acq-fampvolume_TB1TFL.nii.gz\n",
    "├── sub-02\n",
    "├── sub-03\n",
    "├── sub-04\n",
    "└── sub-05\n",
    "~~~\n",
    "\n",
    "\n",
    "## Overview of processing pipeline\n",
    "\n",
    "For each subject:\n",
    "\n",
    "- Segment the SC on GRE scan\n",
    "- Label vertebral levels on GRE scan using existing manual disc labels\n",
    "- Extract the signal intensity on the GRE scan within the spinal cord\n",
    "- Register each B1 map (CP, CoV, etc.) to the GRE scan\n",
    "- Apply the computed warping field to bring the segmentation and vertebral levels to the B1 map\n",
    "- Convert the B1 map to nT/V units\n",
    "- Extract the B1 map value within the spinal cord\n",
    "\n",
    "Slow processes are indicated with the emoji ⏳"
   ]
  },
  {
   "cell_type": "code",
   "execution_count": null,
   "id": "4f78c5ea",
   "metadata": {},
   "outputs": [],
   "source": [
    "# Necessary imports\n",
    "\n",
    "import os\n",
    "import re\n",
    "import json\n",
    "import subprocess\n",
    "import glob\n",
    "import numpy as np\n",
    "# import matplotlib.pyplot as plt\n",
    "# from PIL import Image\n",
    "# from IPython.display import display\n",
    "# from tabulate import tabulate\n",
    "import nibabel as nib\n",
    "# import pandas as pd"
   ]
  },
  {
   "cell_type": "code",
   "execution_count": null,
   "id": "3393a694",
   "metadata": {},
   "outputs": [],
   "source": [
    "# Download data and define path variables\n",
    "\n",
    "!datalad install https://github.com/OpenNeuroDatasets/ds004906.git\n",
    "os.chdir(\"ds004906\")\n",
    "!datalad get . # uncomment for production\n",
    "# !datalad get sub-01/  # comment for debugging"
   ]
  },
  {
   "cell_type": "code",
   "execution_count": null,
   "id": "6fe120e8",
   "metadata": {},
   "outputs": [],
   "source": [
    "# Define useful variables\n",
    "\n",
    "path_data = os.getcwd()\n",
    "path_qc = os.path.join(path_data, \"qc\")\n",
    "shim_modes = [\"CP\", \"CoV\", \"patient\", \"phase\", \"SAReff\", \"target\", \"volume\"]\n",
    "subjects = glob.glob(\"sub-*\")"
   ]
  },
  {
   "cell_type": "code",
   "execution_count": null,
   "id": "e95d87a4-3194-4369-b6cb-933ad1d5cfa3",
   "metadata": {},
   "outputs": [],
   "source": [
    "# Run segmentation on GRE scan\n",
    "\n",
    "for subject in subjects:\n",
    "    os.chdir(os.path.join(path_data, subject, \"anat\"))\n",
    "    !sct_deepseg_sc -i {subject}_acq-CoV_T2starw.nii.gz -c t2 -qc {path_qc}"
   ]
  },
  {
   "cell_type": "markdown",
   "id": "aac9d889",
   "metadata": {},
   "source": [
    "## Verify QC report (GRE segmentation)\n",
    "\n",
    "Open the quality control (QC) report located under `ds004906/qc/index.html`. Make sure the spinal cord segmentations are correct before resuming the analysis."
   ]
  },
  {
   "cell_type": "code",
   "execution_count": null,
   "id": "ab6a7dbe",
   "metadata": {},
   "outputs": [],
   "source": [
    "os.path.join(path_data, \"derivatives\", \"labels\", subject, \"anat\", f\"{subject}_acq-CoV_T2starw_label-discs_dseg.nii.gz\")\n"
   ]
  },
  {
   "cell_type": "code",
   "execution_count": null,
   "id": "4e1a6ae1",
   "metadata": {},
   "outputs": [],
   "source": [
    "# Label vertebrae on GRE scan\n",
    "\n",
    "# Given the low resolution of the GRE scan, the automatic detection of C2-C3 disc is unreliable. Therefore we need to use the manual disc labels that are part of the dataset.\n",
    "for subject in subjects:\n",
    "    os.chdir(os.path.join(path_data, subject, \"anat\"))\n",
    "    fname_label_discs = os.path.join(path_data, \"derivatives\", \"labels\", subject, \"anat\", f\"{subject}_acq-CoV_T2starw_label-discs_dseg.nii.gz\")\n",
    "    !sct_label_vertebrae -i {subject}_acq-CoV_T2starw.nii.gz -s {subject}_acq-CoV_T2starw_seg.nii.gz -c t2 -discfile {fname_label_discs} -qc {path_qc}"
   ]
  },
  {
   "cell_type": "code",
   "execution_count": null,
   "id": "90deb5e5",
   "metadata": {},
   "outputs": [],
   "source": [
    "# Crop GRE scan for faster processing and better registration results\n",
    "\n",
    "for subject in subjects:\n",
    "    os.chdir(os.path.join(path_data, subject, \"anat\"))\n",
    "    !sct_crop_image -i {subject}_acq-CoV_T2starw.nii.gz -m {subject}_acq-CoV_T2starw_seg.nii.gz -dilate 20x20x0 -o {subject}_acq-CoV_T2starw_crop.nii.gz\n",
    "    !sct_crop_image -i {subject}_acq-CoV_T2starw_seg.nii.gz -m {subject}_acq-CoV_T2starw_seg.nii.gz -dilate 20x20x0 -o {subject}_acq-CoV_T2starw_crop_seg.nii.gz\n",
    "    !sct_crop_image -i {subject}_acq-CoV_T2starw_seg_labeled.nii.gz -m {subject}_acq-CoV_T2starw_seg.nii.gz -dilate 20x20x0 -o {subject}_acq-CoV_T2starw_crop_seg_labeled.nii.gz    "
   ]
  },
  {
   "cell_type": "code",
   "execution_count": null,
   "id": "e0cde907",
   "metadata": {},
   "outputs": [],
   "source": [
    "# Register TFL B1maps to the GRE scan ⏳\n",
    "\n",
    "for subject in subjects:\n",
    "    os.chdir(os.path.join(path_data, subject, \"fmap\"))\n",
    "    for shim_mode in shim_modes:\n",
    "        !sct_register_multimodal -i {subject}_acq-anat{shim_mode}_TB1TFL.nii.gz -d ../anat/{subject}_acq-CoV_T2starw_crop.nii.gz -dseg ../anat/{subject}_acq-CoV_T2starw_crop_seg.nii.gz -param step=1,type=im,algo=slicereg,metric=CC -qc {path_qc}"
   ]
  },
  {
   "cell_type": "markdown",
   "id": "679f1193",
   "metadata": {},
   "source": [
    "## Verify QC report (B1maps to GRE registration)\n",
    "\n",
    "Open the QC report located under `ds004906/qc/index.html`. Make sure the registration are correct before resuming the analysis."
   ]
  },
  {
   "cell_type": "code",
   "execution_count": null,
   "id": "623c26cd",
   "metadata": {},
   "outputs": [],
   "source": [
    "# Warping spinal cord segmentation and vertebral level to each B1 map\n",
    "\n",
    "for subject in subjects:\n",
    "    os.chdir(os.path.join(path_data, subject, \"fmap\"))\n",
    "    for shim_mode in shim_modes:\n",
    "        !sct_apply_transfo -i ../anat/{subject}_acq-CoV_T2starw_crop_seg.nii.gz -d {subject}_acq-anat{shim_mode}_TB1TFL.nii.gz -w warp_{subject}_acq-CoV_T2starw_crop2{subject}_acq-anat{shim_mode}_TB1TFL.nii.gz -x linear -o {subject}_acq-anat{shim_mode}_TB1TFL_seg.nii.gz\n",
    "        !sct_apply_transfo -i ../anat/{subject}_acq-CoV_T2starw_crop_seg_labeled.nii.gz -d {subject}_acq-anat{shim_mode}_TB1TFL.nii.gz -w warp_{subject}_acq-CoV_T2starw_crop2{subject}_acq-anat{shim_mode}_TB1TFL.nii.gz -x nn -o {subject}_acq-anat{shim_mode}_TB1TFL_seg_labeled.nii.gz"
   ]
  },
  {
   "cell_type": "code",
   "execution_count": null,
   "id": "ef34c2a1",
   "metadata": {},
   "outputs": [],
   "source": [
    "# Extract B1+ value along the spinal cord\n",
    "\n",
    "# TODO"
   ]
  }
 ],
 "metadata": {
  "kernelspec": {
   "display_name": "Python 3 (ipykernel)",
   "language": "python",
   "name": "python3"
  },
  "language_info": {
   "codemirror_mode": {
    "name": "ipython",
    "version": 3
   },
   "file_extension": ".py",
   "mimetype": "text/x-python",
   "name": "python",
   "nbconvert_exporter": "python",
   "pygments_lexer": "ipython3",
   "version": "3.10.8"
  }
 },
 "nbformat": 4,
 "nbformat_minor": 5
}
