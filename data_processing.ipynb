{
 "cells": [
  {
   "cell_type": "markdown",
   "id": "459f60d5",
   "metadata": {},
   "source": [
    "# Analysis code for the paper \"B1+ shimming in the cervical spinal cord at 7T\"\n",
    "\n",
    "## Data\n",
    "\n",
    "The data can be downloaded at https://openneuro.org/datasets/ds004906\n",
    "\n",
    "The structure of the input dataset is as follows (JSON sidecars are not listed for clarity):\n",
    "~~~\n",
    "ds004906\n",
    "├── CHANGES\n",
    "├── README\n",
    "├── dataset_description.json\n",
    "├── participants.json\n",
    "├── participants.tsv\n",
    "├── sub-01\n",
    "│   ├── anat\n",
    "│   │   ├── sub-01_acq-CP_T1w.nii.gz\n",
    "│   │   ├── sub-01_acq-CP_T2starw.nii.gz\n",
    "│   │   ├── sub-01_acq-CoV_T1w.nii.gz\n",
    "│   │   ├── sub-01_acq-CoV_T2starw.nii.gz\n",
    "│   │   ├── sub-01_acq-SAReff_T2starw.nii.gz\n",
    "│   │   ├── sub-01_acq-patient_T2starw.nii.gz\n",
    "│   │   ├── sub-01_acq-phase_T2starw.nii.gz\n",
    "│   │   ├── sub-01_acq-target_T2starw.nii.gz\n",
    "│   │   ├── sub-01_acq-volume_T2starw.nii.gz\n",
    "│   └── fmap\n",
    "│       ├── sub-01_acq-anatCP_TB1TFL.nii.gz\n",
    "│       ├── sub-01_acq-anatCoV_TB1TFL.nii.gz\n",
    "│       ├── sub-01_acq-anatSAReff_TB1TFL.nii.gz\n",
    "│       ├── sub-01_acq-anatpatient_TB1TFL.nii.gz\n",
    "│       ├── sub-01_acq-anatphase_TB1TFL.nii.gz\n",
    "│       ├── sub-01_acq-anattarget_TB1TFL.nii.gz\n",
    "│       ├── sub-01_acq-anatvolume_TB1TFL.nii.gz\n",
    "│       ├── sub-01_acq-fampCP_TB1TFL.nii.gz\n",
    "│       ├── sub-01_acq-fampCoV_TB1TFL.nii.gz\n",
    "│       ├── sub-01_acq-fampSAReff_TB1TFL.nii.gz\n",
    "│       ├── sub-01_acq-famppatient_TB1TFL.nii.gz\n",
    "│       ├── sub-01_acq-fampphase_TB1TFL.nii.gz\n",
    "│       ├── sub-01_acq-famptarget_TB1TFL.nii.gz\n",
    "│       └── sub-01_acq-fampvolume_TB1TFL.nii.gz\n",
    "├── sub-02\n",
    "├── sub-03\n",
    "├── sub-04\n",
    "└── sub-05\n",
    "~~~\n",
    "\n",
    "\n",
    "## Overview of processing pipeline\n",
    "\n",
    "For each subject:\n",
    "\n",
    "- Segment the spinal cord on GRE scan\n",
    "- Label vertebral levels on GRE scan using existing manual disc labels\n",
    "- Extract the signal intensity on the GRE scan within the spinal cord\n",
    "- Register each B1 map (CP, CoV, etc.) to the GRE scan\n",
    "- Apply the computed warping field to bring the segmentation and vertebral levels to the B1 map\n",
    "- Convert the B1 map to nT/V units\n",
    "- Extract the B1 map value within the spinal cord\n",
    "\n",
    "```{note}\n",
    "Here is a note!\n",
    "```\n",
    "Slow processes are indicated with the emoji ⏳"
   ]
  },
  {
   "cell_type": "code",
   "execution_count": null,
   "id": "4f78c5ea",
   "metadata": {},
   "outputs": [],
   "source": [
    "# Necessary imports\n",
    "\n",
    "import os\n",
    "import re\n",
    "import json\n",
    "import subprocess\n",
    "import glob\n",
    "import numpy as np\n",
    "# import matplotlib.pyplot as plt\n",
    "# from PIL import Image\n",
    "# from IPython.display import display\n",
    "# from tabulate import tabulate\n",
    "import nibabel as nib\n",
    "# import pandas as pd"
   ]
  },
  {
   "cell_type": "code",
   "execution_count": null,
   "id": "3393a694",
   "metadata": {},
   "outputs": [],
   "source": [
    "# Download data and define path variables\n",
    "\n",
    "!datalad install https://github.com/OpenNeuroDatasets/ds004906.git\n",
    "os.chdir(\"ds004906\")\n",
    "# !datalad get . # uncomment for production\n",
    "!datalad get sub-01/  # debugging\n",
    "# Get derivatives containing manual labels\n",
    "!datalad get derivatives"
   ]
  },
  {
   "cell_type": "code",
   "execution_count": null,
   "id": "6fe120e8",
   "metadata": {},
   "outputs": [],
   "source": [
    "# Define useful variables\n",
    "\n",
    "path_data = os.getcwd()\n",
    "print(f\"path_data: {path_data}\")\n",
    "path_qc = os.path.join(path_data, \"qc\")\n",
    "# shim_modes = [\"CP\", \"CoV\", \"patient\", \"phase\", \"SAReff\", \"target\", \"volume\"]\n",
    "shim_modes = [\"CP\", \"CoV\"]  # debugging\n",
    "print(f\"shim_modes: {shim_modes}\")\n",
    "subjects = sorted(glob.glob(\"sub-*\"))\n",
    "print(f\"subjects: {subjects}\")"
   ]
  },
  {
   "cell_type": "code",
   "execution_count": null,
   "id": "e95d87a4-3194-4369-b6cb-933ad1d5cfa3",
   "metadata": {},
   "outputs": [],
   "source": [
    "# Run segmentation on GRE scan\n",
    "\n",
    "for subject in subjects:\n",
    "    os.chdir(os.path.join(path_data, subject, \"anat\"))\n",
    "    !sct_deepseg_sc -i {subject}_acq-CoV_T2starw.nii.gz -c t2 -qc {path_qc}"
   ]
  },
  {
   "cell_type": "markdown",
   "id": "aac9d889",
   "metadata": {},
   "source": [
    "## Verify QC report (GRE segmentation)\n",
    "\n",
    "Open the quality control (QC) report located under `ds004906/qc/index.html`. Make sure the spinal cord segmentations are correct before resuming the analysis."
   ]
  },
  {
   "cell_type": "code",
   "execution_count": null,
   "id": "862dc562",
   "metadata": {},
   "outputs": [],
   "source": [
    "# Crop GRE scan for faster processing and better registration results\n",
    "\n",
    "for subject in subjects:\n",
    "    os.chdir(os.path.join(path_data, subject, \"anat\"))\n",
    "    !sct_crop_image -i {subject}_acq-CoV_T2starw.nii.gz -m {subject}_acq-CoV_T2starw_seg.nii.gz -dilate 20x20x0 -o {subject}_acq-CoV_T2starw_crop.nii.gz\n",
    "    !sct_crop_image -i {subject}_acq-CoV_T2starw_seg.nii.gz -m {subject}_acq-CoV_T2starw_seg.nii.gz -dilate 20x20x0 -o {subject}_acq-CoV_T2starw_crop_seg.nii.gz"
   ]
  },
  {
   "cell_type": "code",
   "execution_count": null,
   "id": "6137bb2b",
   "metadata": {},
   "outputs": [],
   "source": [
    "# Label vertebrae on GRE scan\n",
    "\n",
    "# Given the low resolution of the GRE scan, the automatic detection of C2-C3 disc is unreliable. Therefore we need to use the manual disc labels that are part of the dataset.\n",
    "for subject in subjects:\n",
    "    os.chdir(os.path.join(path_data, subject, \"anat\"))\n",
    "    fname_label_discs = os.path.join(path_data, \"derivatives\", \"labels\", subject, \"anat\", f\"{subject}_acq-CoV_T2starw_label-discs_dseg.nii.gz\")\n",
    "    !sct_label_utils -i {subject}_acq-CoV_T2starw_crop_seg.nii.gz -disc {fname_label_discs} -o {subject}_acq-CoV_T2starw_crop_seg_labeled.nii.gz\n",
    "    # Generate QC report to assess labeled segmentation\n",
    "    !sct_qc -i {subject}_acq-CoV_T2starw_crop.nii.gz -s {subject}_acq-CoV_T2starw_crop_seg_labeled.nii.gz -p sct_label_vertebrae -qc {path_qc} -qc-subject {subject}"
   ]
  },
  {
   "cell_type": "code",
   "execution_count": null,
   "id": "c46e8d9a",
   "metadata": {},
   "outputs": [],
   "source": [
    "# Register the other shim methods to the GRE CoV scan\n",
    "\n",
    "# TODO"
   ]
  },
  {
   "cell_type": "code",
   "execution_count": null,
   "id": "90deb5e5",
   "metadata": {},
   "outputs": [],
   "source": [
    "# Extract the signal intensity on the GRE scan within the spinal cord\n",
    "\n",
    "for subject in subjects:\n",
    "    # TODO: loop across other shim methods    \n",
    "    os.chdir(os.path.join(path_data, subject, \"anat\"))\n",
    "    !sct_extract_metric -i {subject}_acq-CoV_T2starw_crop.nii.gz -f {subject}_acq-CoV_T2starw_crop_seg.nii.gz -method wa -vert 1:9 -vertfile {subject}_acq-CoV_T2starw_crop_seg_labeled.nii.gz -append 1 -perslice 1 -o gre_CoV.csv\n"
   ]
  },
  {
   "cell_type": "code",
   "execution_count": null,
   "id": "e0cde907",
   "metadata": {},
   "outputs": [],
   "source": [
    "# Register TFL B1maps to the GRE scan ⏳\n",
    "\n",
    "for subject in subjects:\n",
    "    os.chdir(os.path.join(path_data, subject, \"fmap\"))\n",
    "    for shim_mode in shim_modes:\n",
    "        !sct_register_multimodal -i {subject}_acq-anat{shim_mode}_TB1TFL.nii.gz -d ../anat/{subject}_acq-CoV_T2starw_crop.nii.gz -dseg ../anat/{subject}_acq-CoV_T2starw_crop_seg.nii.gz -param step=1,type=im,algo=slicereg,metric=CC -qc {path_qc}"
   ]
  },
  {
   "cell_type": "markdown",
   "id": "39de4623",
   "metadata": {},
   "source": [
    "## Verify QC report (B1maps to GRE registration)\n",
    "\n",
    "Open the QC report located under `ds004906/qc/index.html`. Make sure the registration are correct before resuming the analysis."
   ]
  },
  {
   "cell_type": "code",
   "execution_count": null,
   "id": "6a6d7670",
   "metadata": {},
   "outputs": [],
   "source": [
    "# Warping spinal cord segmentation and vertebral level to each B1 map\n",
    "\n",
    "for subject in subjects:\n",
    "    os.chdir(os.path.join(path_data, subject, \"fmap\"))\n",
    "    for shim_mode in shim_modes:\n",
    "        !sct_apply_transfo -i ../anat/{subject}_acq-CoV_T2starw_crop_seg.nii.gz -d {subject}_acq-anat{shim_mode}_TB1TFL.nii.gz -w warp_{subject}_acq-CoV_T2starw_crop2{subject}_acq-anat{shim_mode}_TB1TFL.nii.gz -x linear -o {subject}_acq-anat{shim_mode}_TB1TFL_seg.nii.gz\n",
    "        !sct_apply_transfo -i ../anat/{subject}_acq-CoV_T2starw_crop_seg_labeled.nii.gz -d {subject}_acq-anat{shim_mode}_TB1TFL.nii.gz -w warp_{subject}_acq-CoV_T2starw_crop2{subject}_acq-anat{shim_mode}_TB1TFL.nii.gz -x nn -o {subject}_acq-anat{shim_mode}_TB1TFL_seg_labeled.nii.gz"
   ]
  },
  {
   "cell_type": "code",
   "execution_count": null,
   "id": "a835cdee",
   "metadata": {},
   "outputs": [],
   "source": [
    "# Convert the B1 map to nT/V units (by Kyle Gilbert)\n",
    "\n",
    "# GAMMA = 2.675e8\n",
    "# B1eff_mag = (AcquiredFA ./ RequestedFA) .* (pi ./ (GAMMA .* 1e-3 .* VoltageAtSocket)); % [T/V]\n",
    "# B1eff_mag = B1eff_mag .* 1e9; % [T/V] to [nT/V]\n",
    "# The constants sum up to 130.492, so to convert the B1map to nT/V, it has to be divided by 10 (to get it back into units of FA)\n",
    "# then multiplied by 130.492 and divided by the VoltageAtSocket\n",
    "\n",
    "for subject in subjects:\n",
    "    os.chdir(os.path.join(path_data, subject, \"fmap\"))\n",
    "    for shim_mode in shim_modes:\n",
    "        # Fetch the reference voltage from the JSON sidecar to the TFL B1map sequence\n",
    "        with open(f\"{subject}_acq-famp{shim_mode}_TB1TFL.json\", \"r\") as f:\n",
    "            metadata = json.load(f)\n",
    "            ref_voltage = metadata.get(\"TxRefAmp\", \"N/A\")\n",
    "            print(f\"ref_voltage: {ref_voltage}\")\n",
    "\n",
    "        voltage_at_socket = ref_voltage * 10**-0.095  # TODO: justify this 0.095 number https://github.com/shimming-toolbox/rf-shimming-7t/issues/22\n",
    "        # VoltageAtSocket=np.around(VoltageAtSocket, decimals=2)\n",
    "\n",
    "        # Divide the flip angle map by a factor 10 to get it in the proper unit (https://github.com/shimming-toolbox/rf-shimming-7t/issues/22)\n",
    "        !sct_maths -i {subject}_acq-famp{shim_mode}_TB1TFL.nii.gz -div 10 -o {subject}_acq-famp{shim_mode}_TB1TFL_nTpV.nii.gz\n",
    "\n",
    "        # Divide the flip angle map by the voltage at the socket\n",
    "        !sct_maths -i {subject}_acq-famp{shim_mode}_TB1TFL_nTpV.nii.gz -div {voltage_at_socket} -o {subject}_acq-famp{shim_mode}_TB1TFL_nTpV.nii.gz\n",
    "\n",
    "        # Multiply the output by 130.492, which corresponds to ...? (https://github.com/shimming-toolbox/rf-shimming-7t/issues/22)\n",
    "        !sct_maths -i {subject}_acq-famp{shim_mode}_TB1TFL_nTpV.nii.gz -mul 130.492 -o {subject}_acq-famp{shim_mode}_TB1TFL_nTpV.nii.gz"
   ]
  },
  {
   "cell_type": "code",
   "execution_count": null,
   "id": "740fda91",
   "metadata": {},
   "outputs": [],
   "source": [
    "# Extract B1+ value along the spinal cord\n",
    "\n",
    "for subject in subjects:\n",
    "    os.chdir(os.path.join(path_data, subject, \"fmap\"))\n",
    "    for shim_mode in shim_modes:\n",
    "        !sct_extract_metric -i {subject}_acq-famp{shim_mode}_TB1TFL_nTpV.nii.gz -f {subject}_acq-anat{shim_mode}_TB1TFL_seg.nii.gz -method wa -vert 1:9 -vertfile {subject}_acq-anat{shim_mode}_TB1TFL_seg_labeled.nii.gz -perslice 1 -o TB1TFL_{shim_mode}.csv"
   ]
  },
  {
   "cell_type": "code",
   "execution_count": null,
   "id": "b0185bb0",
   "metadata": {},
   "outputs": [],
   "source": [
    "# Make figure of B1+ values along the spinal cord across shim methods\n",
    "# WIP\n",
    "\n",
    "import pandas as pd\n",
    "import matplotlib.pyplot as plt\n",
    "import glob\n",
    "\n",
    "subject='sub-01'\n",
    "os.chdir(os.path.join(path_data, subject, \"fmap\"))\n",
    "\n",
    "# Pattern to match all files starting with 'TB1TFL_' and ending with '.csv'\n",
    "file_pattern = f\"TB1TFL_*.csv\"\n",
    "\n",
    "\n",
    "# Initialize a matplotlib figure\n",
    "plt.figure(figsize=(10, 6))\n",
    "\n",
    "# Iterate over all files that match the pattern\n",
    "for file_path in glob.glob(file_pattern):\n",
    "    # Read the CSV file\n",
    "    df = pd.read_csv(file_path)\n",
    "\n",
    "    # Assuming 'WA()' is the column name, extract data from this column\n",
    "    wa_data = df['WA()']\n",
    "    \n",
    "    # Plot the data\n",
    "    plt.plot(wa_data, label=file_path.split('/')[-1])  # Using file name as label\n",
    "\n",
    "# Adding title, labels, and legend\n",
    "plt.title('Data from Column WA() Across Multiple Files')\n",
    "plt.xlabel('Index')\n",
    "plt.ylabel('Values')\n",
    "plt.legend()\n",
    "plt.grid(True)\n",
    "\n",
    "# Display the plot\n",
    "plt.show()"
   ]
  }
 ],
 "metadata": {
  "kernelspec": {
   "display_name": "Python 3 (ipykernel)",
   "language": "python",
   "name": "python3"
  },
  "language_info": {
   "codemirror_mode": {
    "name": "ipython",
    "version": 3
   },
   "file_extension": ".py",
   "mimetype": "text/x-python",
   "name": "python",
   "nbconvert_exporter": "python",
   "pygments_lexer": "ipython3",
   "version": "3.10.8"
  }
 },
 "nbformat": 4,
 "nbformat_minor": 5
}
